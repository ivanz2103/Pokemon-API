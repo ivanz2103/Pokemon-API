{
 "cells": [
  {
   "cell_type": "markdown",
   "id": "7196054f",
   "metadata": {},
   "source": [
    "# Working with APIs"
   ]
  },
  {
   "cell_type": "markdown",
   "id": "0547b71e",
   "metadata": {},
   "source": [
    "API stands for Application programming interface<br>\n",
    "APIs are a way for applications to talk to eachother<br>\n",
    "In python we use the requests package to handle the connection<br>\n",
    "<small><strong>Note: It is requests with an s not request(this is a different package)</strong></small><br>\n",
    "Most API's communicate with data in the form of JSON<br>\n",
    "JSON stands for JavaScript Object Notation"
   ]
  },
  {
   "cell_type": "code",
   "execution_count": 352,
   "id": "4db9d154",
   "metadata": {},
   "outputs": [],
   "source": [
    "#import the packages we need:\n",
    "import requests"
   ]
  },
  {
   "cell_type": "markdown",
   "id": "e8c2ce51",
   "metadata": {},
   "source": [
    "We will be connecting to the Ergast F1 Racer API today:\n",
    "http://ergast.com/mrd/\n",
    "\n",
    "to view JSON data nicely in the Chrome browser install the extension JSONview"
   ]
  },
  {
   "cell_type": "code",
   "execution_count": 353,
   "id": "52c440c6",
   "metadata": {},
   "outputs": [],
   "source": [
    "# The API we are using\n",
    "# Make sure to attach extension .json at the end of the url\n",
    "\n",
    "url = 'https://ergast.com/api/f1/2008/5/driverStandings.json'"
   ]
  },
  {
   "cell_type": "code",
   "execution_count": 354,
   "id": "ac3147f5",
   "metadata": {},
   "outputs": [],
   "source": [
    "# Using the requests package to access data from api/url\n",
    "response = requests.get(url)"
   ]
  },
  {
   "cell_type": "code",
   "execution_count": 355,
   "id": "c6d1fdaf",
   "metadata": {},
   "outputs": [
    {
     "data": {
      "text/plain": [
       "True"
      ]
     },
     "execution_count": 355,
     "metadata": {},
     "output_type": "execute_result"
    }
   ],
   "source": [
    "# check and make sure we got a successful response from the API\n",
    "# status code: 200 = ok (successful), 400 = bad (unsuccessful)\n",
    "response.status_code\n",
    "response.ok"
   ]
  },
  {
   "cell_type": "code",
   "execution_count": 356,
   "id": "ed4d3256",
   "metadata": {},
   "outputs": [],
   "source": [
    "#view the response as a JSON\n",
    "#response.json()"
   ]
  },
  {
   "cell_type": "code",
   "execution_count": 357,
   "id": "92e6cd2c",
   "metadata": {},
   "outputs": [
    {
     "data": {
      "text/plain": [
       "dict"
      ]
     },
     "execution_count": 357,
     "metadata": {},
     "output_type": "execute_result"
    }
   ],
   "source": [
    "type(response.json())"
   ]
  },
  {
   "cell_type": "code",
   "execution_count": 358,
   "id": "f074dfcf",
   "metadata": {},
   "outputs": [],
   "source": [
    "# We only want the Driver Standings\n",
    "#driver_standings_data = response.json()['MRData']['StandingsTable']['StandingsLists'][0]['DriverStandings']\n",
    "#driver_standings_data"
   ]
  },
  {
   "cell_type": "code",
   "execution_count": 359,
   "id": "be46a950",
   "metadata": {},
   "outputs": [],
   "source": [
    "#Use a for loop to display all driver full names\n",
    "#for driver in driver_standings_data:\n",
    "#    print(driver['Driver']['givenName'], driver['Driver']['familyName'])\n"
   ]
  },
  {
   "cell_type": "code",
   "execution_count": 360,
   "id": "3740c752",
   "metadata": {},
   "outputs": [],
   "source": [
    "# Create a function getting certain driver info (givenName, familyName, dateOfBirth, wins, team)\n",
    "def get_driver_info(data):\n",
    "    new_driver_data = []\n",
    "    for driver in data:\n",
    "        driver_dict = {}\n",
    "        full_name = driver['Driver']['givenName'] + ' ' + driver['Driver']['familyName']\n",
    "        driver_dict[full_name] = {\n",
    "            'DOB': driver['Driver']['dateOfBirth'],\n",
    "            'Wins': driver['wins'],\n",
    "            'Team': driver['Constructors'][0]['name']\n",
    "        }\n",
    "        new_driver_data.append(driver_dict)\n",
    "    return new_driver_data\n",
    "#get_driver_info(driver_standings_data)"
   ]
  },
  {
   "cell_type": "code",
   "execution_count": 361,
   "id": "25f26043",
   "metadata": {},
   "outputs": [],
   "source": [
    "#Making a more flexible function to handle different years and rounds\n",
    "def get_driver_info_year_and_round(year, rnd):\n",
    "    url = f'https://ergast.com/api/f1/{year}/{round}/driverStandings.json'  \n",
    "    response = requests.get(url)\n",
    "    if response.ok:\n",
    "        data = response.json()['MRData']['StandingsTable']['StandingsLists'][0]['DriverStandings']\n",
    "        return get_driver_info(data)\n",
    "    else:\n",
    "        return 'The year or round does not exist.'\n",
    "\n",
    "#get_driver_info_year_and_round(2020, 4)"
   ]
  },
  {
   "cell_type": "markdown",
   "id": "6d546014",
   "metadata": {},
   "source": [
    "# <strong>Homework</strong>\n",
    "check out this Pokemon API https://pokeapi.co/\n",
    "Use the requests package to connect to this API and get and store data for 5 different pokemon.\n",
    "Get the pokemons: name, atleast one ability's name, base_experience, and the URL for its sprite (an image that shows up on screen) for the 'front_shiny', attack base_state, hp base_stat, defense base_stat"
   ]
  },
  {
   "cell_type": "code",
   "execution_count": 377,
   "id": "5a9081e3",
   "metadata": {},
   "outputs": [
    {
     "name": "stdout",
     "output_type": "stream",
     "text": [
      "jolteon\n",
      "quick-feet\n",
      "184\n",
      "https://raw.githubusercontent.com/PokeAPI/sprites/master/sprites/pokemon/shiny/135.png\n",
      "65\n",
      "65\n",
      "60\n"
     ]
    }
   ],
   "source": [
    "import requests\n",
    "url = 'https://pokeapi.co/api/v2/pokemon/jolteon'\n",
    "response = requests.get(url)\n",
    "\n",
    "name = response.json()['forms'][0]['name']\n",
    "print(name)\n",
    "\n",
    "ability = response.json()['abilities'][1]['ability']['name']\n",
    "print(ability)\n",
    "\n",
    "baseExp = response.json()['base_experience']\n",
    "print(baseExp)\n",
    "\n",
    "image = response.json()['sprites']['front_shiny']\n",
    "print(image)\n",
    "\n",
    "attackExp = response.json()['stats'][1]['base_stat']\n",
    "print(attackExp)\n",
    "\n",
    "hpExp = response.json()['stats'][0]['base_stat']\n",
    "print(hpExp)\n",
    "\n",
    "defenseExp = response.json()['stats'][2]['base_stat']\n",
    "print(defenseExp)"
   ]
  },
  {
   "cell_type": "code",
   "execution_count": 378,
   "id": "01633445",
   "metadata": {},
   "outputs": [
    {
     "name": "stdout",
     "output_type": "stream",
     "text": [
      "pidgeot\n",
      "big-pecks\n",
      "216\n",
      "https://raw.githubusercontent.com/PokeAPI/sprites/master/sprites/pokemon/shiny/18.png\n",
      "80\n",
      "83\n",
      "75\n"
     ]
    }
   ],
   "source": [
    "import requests\n",
    "url = 'https://pokeapi.co/api/v2/pokemon/pidgeot'\n",
    "response = requests.get(url)\n",
    "\n",
    "name = response.json()['forms'][0]['name']\n",
    "print(name)\n",
    "\n",
    "ability = response.json()['abilities'][2]['ability']['name']\n",
    "print(ability)\n",
    "\n",
    "baseExp = response.json()['base_experience']\n",
    "print(baseExp)\n",
    "\n",
    "image = response.json()['sprites']['front_shiny']\n",
    "print(image)\n",
    "\n",
    "attackExp = response.json()['stats'][1]['base_stat']\n",
    "print(attackExp)\n",
    "\n",
    "hpExp = response.json()['stats'][0]['base_stat']\n",
    "print(hpExp)\n",
    "\n",
    "defenseExp = response.json()['stats'][2]['base_stat']\n",
    "print(defenseExp)"
   ]
  },
  {
   "cell_type": "code",
   "execution_count": 379,
   "id": "c391a05e",
   "metadata": {},
   "outputs": [
    {
     "name": "stdout",
     "output_type": "stream",
     "text": [
      "gengar\n",
      "cursed-body\n",
      "250\n",
      "https://raw.githubusercontent.com/PokeAPI/sprites/master/sprites/pokemon/shiny/94.png\n",
      "65\n",
      "60\n",
      "60\n"
     ]
    }
   ],
   "source": [
    "import requests\n",
    "url = 'https://pokeapi.co/api/v2/pokemon/gengar'\n",
    "response = requests.get(url)\n",
    "\n",
    "name = response.json()['forms'][0]['name']\n",
    "print(name)\n",
    "\n",
    "ability = response.json()['abilities'][0]['ability']['name']\n",
    "print(ability)\n",
    "\n",
    "baseExp = response.json()['base_experience']\n",
    "print(baseExp)\n",
    "\n",
    "image = response.json()['sprites']['front_shiny']\n",
    "print(image)\n",
    "\n",
    "attackExp = response.json()['stats'][1]['base_stat']\n",
    "print(attackExp)\n",
    "\n",
    "hpExp = response.json()['stats'][0]['base_stat']\n",
    "print(hpExp)\n",
    "\n",
    "defenseExp = response.json()['stats'][2]['base_stat']\n",
    "print(defenseExp)"
   ]
  },
  {
   "cell_type": "code",
   "execution_count": 380,
   "id": "cf5e5319",
   "metadata": {},
   "outputs": [
    {
     "name": "stdout",
     "output_type": "stream",
     "text": [
      "dialga\n",
      "pressure\n",
      "340\n",
      "https://raw.githubusercontent.com/PokeAPI/sprites/master/sprites/pokemon/shiny/483.png\n",
      "120\n",
      "100\n",
      "120\n"
     ]
    }
   ],
   "source": [
    "import requests\n",
    "url = 'https://pokeapi.co/api/v2/pokemon/dialga'\n",
    "response = requests.get(url)\n",
    "\n",
    "name = response.json()['forms'][0]['name']\n",
    "print(name)\n",
    "\n",
    "ability = response.json()['abilities'][0]['ability']['name']\n",
    "print(ability)\n",
    "\n",
    "baseExp = response.json()['base_experience']\n",
    "print(baseExp)\n",
    "\n",
    "image = response.json()['sprites']['front_shiny']\n",
    "print(image)\n",
    "\n",
    "attackExp = response.json()['stats'][1]['base_stat']\n",
    "print(attackExp)\n",
    "\n",
    "hpExp = response.json()['stats'][0]['base_stat']\n",
    "print(hpExp)\n",
    "\n",
    "defenseExp = response.json()['stats'][2]['base_stat']\n",
    "print(defenseExp)"
   ]
  },
  {
   "cell_type": "code",
   "execution_count": 381,
   "id": "0654fee3",
   "metadata": {},
   "outputs": [
    {
     "name": "stdout",
     "output_type": "stream",
     "text": [
      "ditto\n",
      "imposter\n",
      "101\n",
      "https://raw.githubusercontent.com/PokeAPI/sprites/master/sprites/pokemon/shiny/132.png\n",
      "48\n",
      "48\n",
      "48\n"
     ]
    }
   ],
   "source": [
    "import requests\n",
    "url = 'https://pokeapi.co/api/v2/pokemon/ditto'\n",
    "response = requests.get(url)\n",
    "\n",
    "name = response.json()['forms'][0]['name']\n",
    "print(name)\n",
    "\n",
    "ability = response.json()['abilities'][1]['ability']['name']\n",
    "print(ability)\n",
    "\n",
    "baseExp = response.json()['base_experience']\n",
    "print(baseExp)\n",
    "\n",
    "image = response.json()['sprites']['front_shiny']\n",
    "print(image)\n",
    "\n",
    "attackExp = response.json()['stats'][1]['base_stat']\n",
    "print(attackExp)\n",
    "\n",
    "hpExp = response.json()['stats'][0]['base_stat']\n",
    "print(hpExp)\n",
    "\n",
    "defenseExp = response.json()['stats'][2]['base_stat']\n",
    "print(defenseExp)"
   ]
  }
 ],
 "metadata": {
  "kernelspec": {
   "display_name": "Python 3.10.8 64-bit (microsoft store)",
   "language": "python",
   "name": "python3"
  },
  "language_info": {
   "codemirror_mode": {
    "name": "ipython",
    "version": 3
   },
   "file_extension": ".py",
   "mimetype": "text/x-python",
   "name": "python",
   "nbconvert_exporter": "python",
   "pygments_lexer": "ipython3",
   "version": "3.10.8"
  },
  "vscode": {
   "interpreter": {
    "hash": "33386243be886bd8bdf0a360733311cfbc7da39b2a3d8b48cccb5777b7c5d822"
   }
  }
 },
 "nbformat": 4,
 "nbformat_minor": 5
}
